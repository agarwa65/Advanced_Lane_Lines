{
 "cells": [
  {
   "cell_type": "markdown",
   "metadata": {},
   "source": [
    "## Thresholding images"
   ]
  },
  {
   "cell_type": "code",
   "execution_count": null,
   "metadata": {
    "collapsed": true
   },
   "outputs": [],
   "source": [
    "##Refer: :Lecture notes on Advanced Lane Finding\n",
    "import cv2\n",
    "import numpy as np\n",
    "\n",
    "# Define a function to return the magnitude of the gradient\n",
    "# for a given sobel kernel size and threshold values\n",
    "def mag_thresh(img, sobel_kernel=3, mag_thresh=(25, 255)):\n",
    "    # Convert to grayscale\n",
    "    gray = cv2.cvtColor(img, cv2.COLOR_RGB2GRAY)\n",
    "    # Take both Sobel x and y gradients\n",
    "    sobelx = cv2.Sobel(gray, cv2.CV_64F, 1, 0, ksize=sobel_kernel)\n",
    "    sobely = cv2.Sobel(gray, cv2.CV_64F, 0, 1, ksize=sobel_kernel)\n",
    "    # Calculate the gradient magnitude\n",
    "    gradmag = np.sqrt(sobelx**2 + sobely**2)\n",
    "    # Rescale to 8 bit\n",
    "    scale_factor = np.max(gradmag)/255 \n",
    "    gradmag = (gradmag/scale_factor).astype(np.uint8) \n",
    "    # Create a binary image of ones where threshold is met, zeros otherwise\n",
    "    binary_output = np.zeros_like(gradmag)\n",
    "    binary_output[(gradmag >= mag_thresh[0]) & (gradmag <= mag_thresh[1])] = 1\n",
    "\n",
    "    # Return the binary image\n",
    "    return binary_output\n",
    "\n",
    "\n",
    "# Define a function to threshold an image for a given range and Sobel kernel\n",
    "def dir_threshold(img, sobel_kernel=3, dir_thresh=(0, np.pi/2)):\n",
    "    # Grayscale\n",
    "    gray = cv2.cvtColor(img, cv2.COLOR_RGB2GRAY)\n",
    "    # Calculate the x and y gradients\n",
    "    sobelx = cv2.Sobel(gray, cv2.CV_64F, 1, 0, ksize=sobel_kernel)\n",
    "    sobely = cv2.Sobel(gray, cv2.CV_64F, 0, 1, ksize=sobel_kernel)\n",
    "    # Take the absolute value of the gradient direction, \n",
    "    # apply a threshold, and create a binary image result\n",
    "    absgraddir = np.arctan2(np.absolute(sobely), np.absolute(sobelx))\n",
    "    binary_output =  np.zeros_like(absgraddir)\n",
    "    binary_output[(absgraddir >= dir_thresh[0]) & (absgraddir <= dir_thresh[1])] = 1\n",
    "\n",
    "    # Return the binary image\n",
    "    return binary_output\n",
    "\n",
    "\n",
    "def combine_thresh(img, color=False, dir_mag_thresh=False):\n",
    "    \n",
    "    #combine gradient threshold\n",
    "    mag_binary = mag_thresh(img, sobel_kernel=3, mag_thresh=(25, 255))\n",
    "    dir_binary = dir_threshold(img, sobel_kernel=3, dir_thresh=(0.7, 1.1))\n",
    "    \n",
    "    combined_grad = np.zeros_like(dir_binary)\n",
    "    combined_grad[((mag_binary == 1) & (dir_binary == 1))] = 1\n",
    "\n",
    "    # Convert to HLS color space and separate the S channel\n",
    "    hls = cv2.cvtColor(img, cv2.COLOR_RGB2HLS).astype(np.float)\n",
    "    s_channel = hls[:,:,2]\n",
    "    r_channel = img[:,:,0]\n",
    "    \n",
    "    \n",
    "    # Threshold color channel\n",
    "    s_thresh, r_thresh = (170,255), (220, 255)\n",
    "    s_binary = np.zeros_like(s_channel)\n",
    "    r_binary = np.zeros_like(r_channel)\n",
    "    s_binary[(s_channel >= s_thresh[0]) & (s_channel <= s_thresh[1])] = 1\n",
    "    r_binary[(r_channel >= r_thresh[0]) & (s_channel <= r_thresh[1])] = 1\n",
    "    \n",
    "\n",
    "    combined_sr = np.zeros_like(s_binary)\n",
    "    combined_sr[((r_binary == 1) | (s_binary == 1))] = 1\n",
    "  \n",
    "\n",
    "    combined_binary = np.zeros_like(mag_binary)\n",
    "    if dir_mag_thresh:\n",
    "        combined_binary[((mag_binary ==1 ) & (dir_binary ==1))] = 1\n",
    "        \n",
    "    if color:\n",
    "        return np.dstack(( np.zeros_like(combined_binary), combined_grad, combined_sr))\n",
    "        \n",
    "    else:\n",
    "        combined_sr[((combined_binary ==1) & (combined_sr ==1))] = 1\n",
    "        return combined_sr"
   ]
  }
 ],
 "metadata": {
  "kernelspec": {
   "display_name": "Python 3",
   "language": "python",
   "name": "python3"
  },
  "language_info": {
   "codemirror_mode": {
    "name": "ipython",
    "version": 3
   },
   "file_extension": ".py",
   "mimetype": "text/x-python",
   "name": "python",
   "nbconvert_exporter": "python",
   "pygments_lexer": "ipython3",
   "version": "3.5.2"
  },
  "widgets": {
   "state": {},
   "version": "1.1.2"
  }
 },
 "nbformat": 4,
 "nbformat_minor": 2
}
