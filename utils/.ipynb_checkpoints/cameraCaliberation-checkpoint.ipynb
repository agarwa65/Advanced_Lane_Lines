{
 "cells": [
  {
   "cell_type": "markdown",
   "metadata": {},
   "source": [
    "## Camera Caliberation with OpenCV\n",
    "\n"
   ]
  },
  {
   "cell_type": "code",
   "execution_count": 21,
   "metadata": {
    "collapsed": false
   },
   "outputs": [],
   "source": [
    "##Refernce: https://github.com/udacity/CarND-Camera-Calibration/blob/master/camera_calibration.ipynb\n",
    "\n",
    "import numpy as np\n",
    "import cv2\n",
    "import glob\n",
    "import math\n",
    "import matplotlib.pyplot as plt"
   ]
  },
  {
   "cell_type": "code",
   "execution_count": 23,
   "metadata": {
    "collapsed": false
   },
   "outputs": [],
   "source": [
    "#prepare object points amd image points\n",
    "\n",
    "def calc_caliberation_matrix(path):\n",
    "    nx = 9\n",
    "    ny = 6\n",
    "    objp = np.zeros((nx*ny,3),np.float32)\n",
    "    objp[:,:2] = np.mgrid[0:nx,0:ny].T.reshape(-1,2)\n",
    "\n",
    "    # prepare object points, like (0,0,0), (1,0,0), (2,0,0) ....,(9,5,0)\n",
    "    objp = np.zeros((nx*ny,3), np.float32)\n",
    "    objp[:,:2] = np.mgrid[0:nx, 0:ny].T.reshape(-1,2)\n",
    "\n",
    "    # Arrays to store object points and image points from all the images.\n",
    "    objpoints = [] # 3d points in real world space\n",
    "    imgpoints = [] # 2d points in image plane.\n",
    "\n",
    "    # Make a list of calibration images\n",
    "    #path = 'camera_cal/calibration*.jpg'\n",
    "    images = glob.glob(path)\n",
    "    num_of_images = len(images)\n",
    "\n",
    "    fig = plt.figure()\n",
    "    i = 1\n",
    "    for idx, fname in enumerate(images):\n",
    "        img = cv2.imread(fname)\n",
    "        gray = cv2.cvtColor(img, cv2.COLOR_BGR2GRAY)\n",
    "\n",
    "        ret, corners = cv2.findChessboardCorners(gray, (nx, ny) , None)\n",
    "\n",
    "        # If found, add object points, image points\n",
    "        if ret == True:\n",
    "            objpoints.append(objp)\n",
    "            imgpoints.append(corners)\n",
    "\n",
    "            # Draw and display the corners\n",
    "            ax = fig.add_subplot(math.ceil(num_of_images /2),2, i)\n",
    "            chessboard = cv2.drawChessboardCorners(img, (nx,ny), corners, ret)\n",
    "            #write_name = 'corners_found'+str(idx)+'.jpg'\n",
    "            #cv2.imwrite(write_name, img)\n",
    "            ax.imshow(chessboard)\n",
    "            ax.axis('off')\n",
    "            i +=1\n",
    "    # Do camera calibration given object points and image points\n",
    "    return cv2.calibrateCamera(objpoints, imgpoints, img.shape[0:2], None, None), fig"
   ]
  },
  {
   "cell_type": "code",
   "execution_count": null,
   "metadata": {
    "collapsed": true
   },
   "outputs": [],
   "source": [
    "\"\"\" Undistort an image\"\"\"\n",
    "\n",
    "def img_undistort(img, mtx, dist):\n",
    "    \"\"\"camera undistort image\"\"\"\n",
    "    return cv2.undistort(img, mtx, dist)"
   ]
  }
 ],
 "metadata": {
  "kernelspec": {
   "display_name": "Python 3",
   "language": "python",
   "name": "python3"
  },
  "language_info": {
   "codemirror_mode": {
    "name": "ipython",
    "version": 3
   },
   "file_extension": ".py",
   "mimetype": "text/x-python",
   "name": "python",
   "nbconvert_exporter": "python",
   "pygments_lexer": "ipython3",
   "version": "3.5.2"
  },
  "widgets": {
   "state": {},
   "version": "1.1.2"
  }
 },
 "nbformat": 4,
 "nbformat_minor": 2
}
